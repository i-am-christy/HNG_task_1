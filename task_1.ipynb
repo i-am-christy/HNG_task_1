{
 "cells": [
  {
   "cell_type": "code",
   "execution_count": 12,
   "metadata": {},
   "outputs": [],
   "source": [
    "import numpy as np\n",
    "import pandas as pd\n",
    "import matplotlib.pyplot as plt\n",
    "%matplotlib inline\n",
    "import seaborn as sns"
   ]
  },
  {
   "cell_type": "code",
   "execution_count": 13,
   "metadata": {},
   "outputs": [
    {
     "data": {
      "text/html": [
       "<div>\n",
       "<style scoped>\n",
       "    .dataframe tbody tr th:only-of-type {\n",
       "        vertical-align: middle;\n",
       "    }\n",
       "\n",
       "    .dataframe tbody tr th {\n",
       "        vertical-align: top;\n",
       "    }\n",
       "\n",
       "    .dataframe thead th {\n",
       "        text-align: right;\n",
       "    }\n",
       "</style>\n",
       "<table border=\"1\" class=\"dataframe\">\n",
       "  <thead>\n",
       "    <tr style=\"text-align: right;\">\n",
       "      <th></th>\n",
       "      <th>PRODUCTID</th>\n",
       "      <th>TITLE</th>\n",
       "      <th>BULLET_POINTS</th>\n",
       "      <th>DESCRIPTION</th>\n",
       "      <th>PRODUCTTYPEID</th>\n",
       "      <th>ProductLength</th>\n",
       "    </tr>\n",
       "  </thead>\n",
       "  <tbody>\n",
       "    <tr>\n",
       "      <th>0</th>\n",
       "      <td>1925202</td>\n",
       "      <td>ArtzFolio Tulip Flowers Blackout Curtain for D...</td>\n",
       "      <td>[LUXURIOUS &amp; APPEALING: Beautiful custom-made ...</td>\n",
       "      <td>NaN</td>\n",
       "      <td>1650.0</td>\n",
       "      <td>2125.980000</td>\n",
       "    </tr>\n",
       "    <tr>\n",
       "      <th>1</th>\n",
       "      <td>2673191</td>\n",
       "      <td>Marks &amp; Spencer Girls' Pyjama Sets T86_2561C_N...</td>\n",
       "      <td>[Harry Potter Hedwig Pyjamas (6-16 Yrs),100% c...</td>\n",
       "      <td>NaN</td>\n",
       "      <td>2755.0</td>\n",
       "      <td>393.700000</td>\n",
       "    </tr>\n",
       "    <tr>\n",
       "      <th>2</th>\n",
       "      <td>2765088</td>\n",
       "      <td>PRIKNIK Horn Red Electric Air Horn Compressor ...</td>\n",
       "      <td>[Loud Dual Tone Trumpet Horn, Compatible With ...</td>\n",
       "      <td>Specifications: Color: Red, Material: Aluminiu...</td>\n",
       "      <td>7537.0</td>\n",
       "      <td>748.031495</td>\n",
       "    </tr>\n",
       "    <tr>\n",
       "      <th>3</th>\n",
       "      <td>1594019</td>\n",
       "      <td>ALISHAH Women's Cotton Ankle Length Leggings C...</td>\n",
       "      <td>[Made By 95%cotton and 5% Lycra which gives yo...</td>\n",
       "      <td>AISHAH Women's Lycra Cotton Ankel Leggings. Br...</td>\n",
       "      <td>2996.0</td>\n",
       "      <td>787.401574</td>\n",
       "    </tr>\n",
       "    <tr>\n",
       "      <th>4</th>\n",
       "      <td>283658</td>\n",
       "      <td>The United Empire Loyalists: A Chronicle of th...</td>\n",
       "      <td>NaN</td>\n",
       "      <td>NaN</td>\n",
       "      <td>6112.0</td>\n",
       "      <td>598.424000</td>\n",
       "    </tr>\n",
       "  </tbody>\n",
       "</table>\n",
       "</div>"
      ],
      "text/plain": [
       "   PRODUCTID                                              TITLE  \\\n",
       "0    1925202  ArtzFolio Tulip Flowers Blackout Curtain for D...   \n",
       "1    2673191  Marks & Spencer Girls' Pyjama Sets T86_2561C_N...   \n",
       "2    2765088  PRIKNIK Horn Red Electric Air Horn Compressor ...   \n",
       "3    1594019  ALISHAH Women's Cotton Ankle Length Leggings C...   \n",
       "4     283658  The United Empire Loyalists: A Chronicle of th...   \n",
       "\n",
       "                                       BULLET_POINTS  \\\n",
       "0  [LUXURIOUS & APPEALING: Beautiful custom-made ...   \n",
       "1  [Harry Potter Hedwig Pyjamas (6-16 Yrs),100% c...   \n",
       "2  [Loud Dual Tone Trumpet Horn, Compatible With ...   \n",
       "3  [Made By 95%cotton and 5% Lycra which gives yo...   \n",
       "4                                                NaN   \n",
       "\n",
       "                                         DESCRIPTION  PRODUCTTYPEID  \\\n",
       "0                                                NaN         1650.0   \n",
       "1                                                NaN         2755.0   \n",
       "2  Specifications: Color: Red, Material: Aluminiu...         7537.0   \n",
       "3  AISHAH Women's Lycra Cotton Ankel Leggings. Br...         2996.0   \n",
       "4                                                NaN         6112.0   \n",
       "\n",
       "   ProductLength  \n",
       "0    2125.980000  \n",
       "1     393.700000  \n",
       "2     748.031495  \n",
       "3     787.401574  \n",
       "4     598.424000  "
      ]
     },
     "execution_count": 13,
     "metadata": {},
     "output_type": "execute_result"
    }
   ],
   "source": [
    "data = pd.read_excel(\"productdata.xlsx\")\n",
    "data.head()"
   ]
  },
  {
   "cell_type": "code",
   "execution_count": 14,
   "metadata": {},
   "outputs": [
    {
     "name": "stdout",
     "output_type": "stream",
     "text": [
      "<class 'pandas.core.frame.DataFrame'>\n",
      "RangeIndex: 3847 entries, 0 to 3846\n",
      "Data columns (total 6 columns):\n",
      " #   Column         Non-Null Count  Dtype  \n",
      "---  ------         --------------  -----  \n",
      " 0   PRODUCTID      3847 non-null   int64  \n",
      " 1   TITLE          3847 non-null   object \n",
      " 2   BULLET_POINTS  2256 non-null   object \n",
      " 3   DESCRIPTION    1703 non-null   object \n",
      " 4   PRODUCTTYPEID  3669 non-null   float64\n",
      " 5   ProductLength  3669 non-null   float64\n",
      "dtypes: float64(2), int64(1), object(3)\n",
      "memory usage: 180.5+ KB\n"
     ]
    }
   ],
   "source": [
    "#check each column\n",
    "data.info()"
   ]
  },
  {
   "cell_type": "markdown",
   "metadata": {},
   "source": [
    "from the info above i can infer that the `bullet_points`, `description` , `peoducttypeid` and `productlength` all have missing data"
   ]
  },
  {
   "cell_type": "code",
   "execution_count": 15,
   "metadata": {},
   "outputs": [
    {
     "data": {
      "text/html": [
       "<div>\n",
       "<style scoped>\n",
       "    .dataframe tbody tr th:only-of-type {\n",
       "        vertical-align: middle;\n",
       "    }\n",
       "\n",
       "    .dataframe tbody tr th {\n",
       "        vertical-align: top;\n",
       "    }\n",
       "\n",
       "    .dataframe thead th {\n",
       "        text-align: right;\n",
       "    }\n",
       "</style>\n",
       "<table border=\"1\" class=\"dataframe\">\n",
       "  <thead>\n",
       "    <tr style=\"text-align: right;\">\n",
       "      <th></th>\n",
       "      <th>PRODUCTID</th>\n",
       "      <th>PRODUCTTYPEID</th>\n",
       "      <th>ProductLength</th>\n",
       "    </tr>\n",
       "  </thead>\n",
       "  <tbody>\n",
       "    <tr>\n",
       "      <th>count</th>\n",
       "      <td>3.847000e+03</td>\n",
       "      <td>3669.000000</td>\n",
       "      <td>3669.000000</td>\n",
       "    </tr>\n",
       "    <tr>\n",
       "      <th>mean</th>\n",
       "      <td>1.456557e+06</td>\n",
       "      <td>3932.736986</td>\n",
       "      <td>1150.529020</td>\n",
       "    </tr>\n",
       "    <tr>\n",
       "      <th>std</th>\n",
       "      <td>8.666684e+05</td>\n",
       "      <td>3970.908660</td>\n",
       "      <td>2665.897894</td>\n",
       "    </tr>\n",
       "    <tr>\n",
       "      <th>min</th>\n",
       "      <td>1.303000e+03</td>\n",
       "      <td>0.000000</td>\n",
       "      <td>1.000000</td>\n",
       "    </tr>\n",
       "    <tr>\n",
       "      <th>25%</th>\n",
       "      <td>6.922785e+05</td>\n",
       "      <td>154.000000</td>\n",
       "      <td>507.873000</td>\n",
       "    </tr>\n",
       "    <tr>\n",
       "      <th>50%</th>\n",
       "      <td>1.441218e+06</td>\n",
       "      <td>2879.000000</td>\n",
       "      <td>640.000000</td>\n",
       "    </tr>\n",
       "    <tr>\n",
       "      <th>75%</th>\n",
       "      <td>2.214798e+06</td>\n",
       "      <td>6337.000000</td>\n",
       "      <td>1023.622046</td>\n",
       "    </tr>\n",
       "    <tr>\n",
       "      <th>max</th>\n",
       "      <td>2.999397e+06</td>\n",
       "      <td>13330.000000</td>\n",
       "      <td>96000.000000</td>\n",
       "    </tr>\n",
       "  </tbody>\n",
       "</table>\n",
       "</div>"
      ],
      "text/plain": [
       "          PRODUCTID  PRODUCTTYPEID  ProductLength\n",
       "count  3.847000e+03    3669.000000    3669.000000\n",
       "mean   1.456557e+06    3932.736986    1150.529020\n",
       "std    8.666684e+05    3970.908660    2665.897894\n",
       "min    1.303000e+03       0.000000       1.000000\n",
       "25%    6.922785e+05     154.000000     507.873000\n",
       "50%    1.441218e+06    2879.000000     640.000000\n",
       "75%    2.214798e+06    6337.000000    1023.622046\n",
       "max    2.999397e+06   13330.000000   96000.000000"
      ]
     },
     "execution_count": 15,
     "metadata": {},
     "output_type": "execute_result"
    }
   ],
   "source": [
    "data.describe()"
   ]
  },
  {
   "cell_type": "code",
   "execution_count": 16,
   "metadata": {},
   "outputs": [
    {
     "name": "stdout",
     "output_type": "stream",
     "text": [
      "1278\n",
      "3541\n"
     ]
    }
   ],
   "source": [
    "#check for the number of unique product Id in the dataset\n",
    "print(data.PRODUCTTYPEID.nunique())\n",
    "print(data.PRODUCTID.nunique())"
   ]
  },
  {
   "cell_type": "code",
   "execution_count": 17,
   "metadata": {},
   "outputs": [
    {
     "data": {
      "text/plain": [
       "PRODUCTID           0\n",
       "TITLE               0\n",
       "BULLET_POINTS    1591\n",
       "DESCRIPTION      2144\n",
       "PRODUCTTYPEID     178\n",
       "ProductLength     178\n",
       "dtype: int64"
      ]
     },
     "execution_count": 17,
     "metadata": {},
     "output_type": "execute_result"
    }
   ],
   "source": [
    "#check for missing data\n",
    "data.isna().sum()"
   ]
  },
  {
   "cell_type": "code",
   "execution_count": 18,
   "metadata": {},
   "outputs": [
    {
     "data": {
      "text/plain": [
       "PRODUCTID        0\n",
       "TITLE            0\n",
       "BULLET_POINTS    0\n",
       "DESCRIPTION      0\n",
       "PRODUCTTYPEID    0\n",
       "ProductLength    0\n",
       "dtype: int64"
      ]
     },
     "execution_count": 18,
     "metadata": {},
     "output_type": "execute_result"
    }
   ],
   "source": [
    "#fill the categorical missing columns with \"unknown\"\n",
    "data[\"BULLET_POINTS\"].fillna(\"Unknown\", inplace=True)\n",
    "data[\"DESCRIPTION\"].fillna(\"Unknown\", inplace=True)\n",
    "data[\"PRODUCTTYPEID\"].fillna(data['PRODUCTTYPEID'].median(), inplace=True)\n",
    "data[\"ProductLength\"].fillna(data['ProductLength'].mean(), inplace=True)\n",
    "data.isna().sum()"
   ]
  },
  {
   "cell_type": "code",
   "execution_count": 19,
   "metadata": {},
   "outputs": [
    {
     "name": "stdout",
     "output_type": "stream",
     "text": [
      "217\n"
     ]
    }
   ],
   "source": [
    "#check for duplicates\n",
    "print(data.duplicated().sum())\n",
    "data.drop_duplicates(inplace=True)"
   ]
  },
  {
   "cell_type": "code",
   "execution_count": 20,
   "metadata": {},
   "outputs": [
    {
     "data": {
      "text/plain": [
       "Index(['PRODUCT_ID', 'TITLE', 'BULLET_POINTS', 'DESCRIPTION',\n",
       "       'PRODUCT_TYPE_ID', 'PRODUCT_LENGTH'],\n",
       "      dtype='object')"
      ]
     },
     "execution_count": 20,
     "metadata": {},
     "output_type": "execute_result"
    }
   ],
   "source": [
    "#rename the coulmns\n",
    "data.rename(columns={\"PRODUCTID\":\"PRODUCT_ID\", \"PRODUCTTYPEID\":\"PRODUCT_TYPE_ID\", \"ProductLength\":\"PRODUCT_LENGTH\"}, inplace=True)\n",
    "data.columns"
   ]
  },
  {
   "cell_type": "code",
   "execution_count": 21,
   "metadata": {},
   "outputs": [
    {
     "name": "stdout",
     "output_type": "stream",
     "text": [
      "{'PRODUCT_ID': PRODUCT_ID           0\n",
      "TITLE                0\n",
      "BULLET_POINTS        0\n",
      "DESCRIPTION          0\n",
      "PRODUCT_TYPE_ID    0.0\n",
      "PRODUCT_LENGTH     0.0\n",
      "dtype: object, 'PRODUCT_TYPE_ID': PRODUCT_ID           0\n",
      "TITLE                0\n",
      "BULLET_POINTS        0\n",
      "DESCRIPTION          0\n",
      "PRODUCT_TYPE_ID    0.0\n",
      "PRODUCT_LENGTH     0.0\n",
      "dtype: object, 'PRODUCT_LENGTH': PRODUCT_ID           0\n",
      "TITLE                0\n",
      "BULLET_POINTS        0\n",
      "DESCRIPTION          0\n",
      "PRODUCT_TYPE_ID    0.0\n",
      "PRODUCT_LENGTH     0.0\n",
      "dtype: object}\n"
     ]
    }
   ],
   "source": [
    "#checking for anomalies in the data\n",
    "cols_to_check = ['PRODUCT_ID','PRODUCT_TYPE_ID', 'PRODUCT_LENGTH']\n",
    "anomalies = {col: data[data[col] <0].sum() for col in cols_to_check}\n",
    "print(anomalies)"
   ]
  },
  {
   "cell_type": "code",
   "execution_count": 23,
   "metadata": {},
   "outputs": [],
   "source": [
    "#using NLP for SEO optimization\n",
    "import spacy\n",
    "nlp = spacy.load(\"en_core_web_sm\")"
   ]
  },
  {
   "cell_type": "code",
   "execution_count": 31,
   "metadata": {},
   "outputs": [],
   "source": [
    "import re\n",
    "#function to extract names entities and limit to 50 characters\n",
    "def exxtract(text, max_length= 50):\n",
    "    doc = nlp(text)\n",
    "    entities = [ent.text for ent in doc.ents] #extract named entities\n",
    "    # Extract key nouns (e.g., product type, category) if NER is missing entities\n",
    "    nouns = [token.text for token in doc if token.pos_ in [\"NOUN\", \"PROPN\"] and len(token.text) > 2]\n",
    "     # Combine entities and nouns for a better short title\n",
    "    keywords = entities + nouns\n",
    "   # Remove unwanted words (e.g., \"set of\", \"includes\", \"features\", special characters)\n",
    "    keywords = [word for word in keywords if word.lower() not in [\"set\", \"includes\", \"features\", \"pcs\"]]\n",
    "    keywords = [re.sub(r'[^\\w\\s-]', '', word) for word in keywords]  # Remove special characters\n",
    "\n",
    "    # Generate short title\n",
    "    short_title = \" \".join(keywords) if keywords else text  # Use original if nothing found\n",
    "    \n",
    "    #truncate to max_length while keeping the words intact\n",
    "    if len(short_title) > max_length:\n",
    "        short_title = short_title[:max_length].rsplit(\" \", 1)[0] #avoid cutting off words\n",
    "    return short_title"
   ]
  },
  {
   "cell_type": "code",
   "execution_count": 32,
   "metadata": {},
   "outputs": [
    {
     "data": {
      "text/html": [
       "<div>\n",
       "<style scoped>\n",
       "    .dataframe tbody tr th:only-of-type {\n",
       "        vertical-align: middle;\n",
       "    }\n",
       "\n",
       "    .dataframe tbody tr th {\n",
       "        vertical-align: top;\n",
       "    }\n",
       "\n",
       "    .dataframe thead th {\n",
       "        text-align: right;\n",
       "    }\n",
       "</style>\n",
       "<table border=\"1\" class=\"dataframe\">\n",
       "  <thead>\n",
       "    <tr style=\"text-align: right;\">\n",
       "      <th></th>\n",
       "      <th>PRODUCT_ID</th>\n",
       "      <th>TITLE</th>\n",
       "      <th>BULLET_POINTS</th>\n",
       "      <th>DESCRIPTION</th>\n",
       "      <th>PRODUCT_TYPE_ID</th>\n",
       "      <th>PRODUCT_LENGTH</th>\n",
       "      <th>SHORT_TITLE</th>\n",
       "    </tr>\n",
       "  </thead>\n",
       "  <tbody>\n",
       "    <tr>\n",
       "      <th>0</th>\n",
       "      <td>1925202</td>\n",
       "      <td>ArtzFolio Tulip Flowers Blackout Curtain for D...</td>\n",
       "      <td>[LUXURIOUS &amp; APPEALING: Beautiful custom-made ...</td>\n",
       "      <td>Unknown</td>\n",
       "      <td>1650.0</td>\n",
       "      <td>2125.980000</td>\n",
       "      <td>ArtzFolio Canvas Fabric 5 feet 60 inch 2</td>\n",
       "    </tr>\n",
       "    <tr>\n",
       "      <th>1</th>\n",
       "      <td>2673191</td>\n",
       "      <td>Marks &amp; Spencer Girls' Pyjama Sets T86_2561C_N...</td>\n",
       "      <td>[Harry Potter Hedwig Pyjamas (6-16 Yrs),100% c...</td>\n",
       "      <td>Unknown</td>\n",
       "      <td>2755.0</td>\n",
       "      <td>393.700000</td>\n",
       "      <td>Marks  Spencer Girls Pyjama Sets T86_2561C_Navy</td>\n",
       "    </tr>\n",
       "    <tr>\n",
       "      <th>2</th>\n",
       "      <td>2765088</td>\n",
       "      <td>PRIKNIK Horn Red Electric Air Horn Compressor ...</td>\n",
       "      <td>[Loud Dual Tone Trumpet Horn, Compatible With ...</td>\n",
       "      <td>Specifications: Color: Red, Material: Aluminiu...</td>\n",
       "      <td>7537.0</td>\n",
       "      <td>748.031495</td>\n",
       "      <td>PRIKNIK Horn Red Electric Air Horn Compressor</td>\n",
       "    </tr>\n",
       "    <tr>\n",
       "      <th>3</th>\n",
       "      <td>1594019</td>\n",
       "      <td>ALISHAH Women's Cotton Ankle Length Leggings C...</td>\n",
       "      <td>[Made By 95%cotton and 5% Lycra which gives yo...</td>\n",
       "      <td>AISHAH Women's Lycra Cotton Ankel Leggings. Br...</td>\n",
       "      <td>2996.0</td>\n",
       "      <td>787.401574</td>\n",
       "      <td>ALISHAH Womens Cotton Ankle Length Leggings Combo</td>\n",
       "    </tr>\n",
       "    <tr>\n",
       "      <th>4</th>\n",
       "      <td>283658</td>\n",
       "      <td>The United Empire Loyalists: A Chronicle of th...</td>\n",
       "      <td>Unknown</td>\n",
       "      <td>Unknown</td>\n",
       "      <td>6112.0</td>\n",
       "      <td>598.424000</td>\n",
       "      <td>The United Empire the Great Migration United</td>\n",
       "    </tr>\n",
       "  </tbody>\n",
       "</table>\n",
       "</div>"
      ],
      "text/plain": [
       "   PRODUCT_ID                                              TITLE  \\\n",
       "0     1925202  ArtzFolio Tulip Flowers Blackout Curtain for D...   \n",
       "1     2673191  Marks & Spencer Girls' Pyjama Sets T86_2561C_N...   \n",
       "2     2765088  PRIKNIK Horn Red Electric Air Horn Compressor ...   \n",
       "3     1594019  ALISHAH Women's Cotton Ankle Length Leggings C...   \n",
       "4      283658  The United Empire Loyalists: A Chronicle of th...   \n",
       "\n",
       "                                       BULLET_POINTS  \\\n",
       "0  [LUXURIOUS & APPEALING: Beautiful custom-made ...   \n",
       "1  [Harry Potter Hedwig Pyjamas (6-16 Yrs),100% c...   \n",
       "2  [Loud Dual Tone Trumpet Horn, Compatible With ...   \n",
       "3  [Made By 95%cotton and 5% Lycra which gives yo...   \n",
       "4                                            Unknown   \n",
       "\n",
       "                                         DESCRIPTION  PRODUCT_TYPE_ID  \\\n",
       "0                                            Unknown           1650.0   \n",
       "1                                            Unknown           2755.0   \n",
       "2  Specifications: Color: Red, Material: Aluminiu...           7537.0   \n",
       "3  AISHAH Women's Lycra Cotton Ankel Leggings. Br...           2996.0   \n",
       "4                                            Unknown           6112.0   \n",
       "\n",
       "   PRODUCT_LENGTH                                        SHORT_TITLE  \n",
       "0     2125.980000           ArtzFolio Canvas Fabric 5 feet 60 inch 2  \n",
       "1      393.700000    Marks  Spencer Girls Pyjama Sets T86_2561C_Navy  \n",
       "2      748.031495      PRIKNIK Horn Red Electric Air Horn Compressor  \n",
       "3      787.401574  ALISHAH Womens Cotton Ankle Length Leggings Combo  \n",
       "4      598.424000       The United Empire the Great Migration United  "
      ]
     },
     "execution_count": 32,
     "metadata": {},
     "output_type": "execute_result"
    }
   ],
   "source": [
    "data[\"SHORT_TITLE\"] = data[\"TITLE\"].apply(lambda x: exxtract(x, max_length=50))\n",
    "data.head(5)"
   ]
  },
  {
   "cell_type": "code",
   "execution_count": 26,
   "metadata": {},
   "outputs": [
    {
     "data": {
      "text/html": [
       "<div>\n",
       "<style scoped>\n",
       "    .dataframe tbody tr th:only-of-type {\n",
       "        vertical-align: middle;\n",
       "    }\n",
       "\n",
       "    .dataframe tbody tr th {\n",
       "        vertical-align: top;\n",
       "    }\n",
       "\n",
       "    .dataframe thead th {\n",
       "        text-align: right;\n",
       "    }\n",
       "</style>\n",
       "<table border=\"1\" class=\"dataframe\">\n",
       "  <thead>\n",
       "    <tr style=\"text-align: right;\">\n",
       "      <th></th>\n",
       "      <th>PRODUCT_ID</th>\n",
       "      <th>TITLE</th>\n",
       "      <th>BULLET_POINTS</th>\n",
       "      <th>DESCRIPTION</th>\n",
       "      <th>PRODUCT_TYPE_ID</th>\n",
       "      <th>PRODUCT_LENGTH</th>\n",
       "      <th>SHORT_TITLE</th>\n",
       "    </tr>\n",
       "  </thead>\n",
       "  <tbody>\n",
       "    <tr>\n",
       "      <th>3651</th>\n",
       "      <td>2919319</td>\n",
       "      <td>Generic Chiffon printed dupatta with Golden do...</td>\n",
       "      <td>Unknown</td>\n",
       "      <td>Unknown</td>\n",
       "      <td>2879.0</td>\n",
       "      <td>1150.52902</td>\n",
       "      <td>Generic Chiffon Hangings for Girls and Women</td>\n",
       "    </tr>\n",
       "    <tr>\n",
       "      <th>3652</th>\n",
       "      <td>90582</td>\n",
       "      <td>CAUGHT IN THE ACT (Loveswept)</td>\n",
       "      <td>Unknown</td>\n",
       "      <td>Unknown</td>\n",
       "      <td>2879.0</td>\n",
       "      <td>1150.52902</td>\n",
       "      <td>CAUGHT IN THE ACT (Loveswept)</td>\n",
       "    </tr>\n",
       "    <tr>\n",
       "      <th>3653</th>\n",
       "      <td>2894923</td>\n",
       "      <td>GlobalNicheÂ® Leather Car Key Case Cover for f...</td>\n",
       "      <td>Unknown</td>\n",
       "      <td>Unknown</td>\n",
       "      <td>2879.0</td>\n",
       "      <td>1150.52902</td>\n",
       "      <td>Car Key Case Cover Fiesta Escort Key Ring Car</td>\n",
       "    </tr>\n",
       "    <tr>\n",
       "      <th>3654</th>\n",
       "      <td>1008258</td>\n",
       "      <td>The Mountain Bigfoot Adult T-Shirt, Brown, Small</td>\n",
       "      <td>Unknown</td>\n",
       "      <td>Unknown</td>\n",
       "      <td>2879.0</td>\n",
       "      <td>1150.52902</td>\n",
       "      <td>The Mountain Bigfoot Adult T-Shirt, Brown, Small</td>\n",
       "    </tr>\n",
       "    <tr>\n",
       "      <th>3655</th>\n",
       "      <td>402457</td>\n",
       "      <td>Tales of Cydonia: Volume Two: Cydonia Labyrint...</td>\n",
       "      <td>Unknown</td>\n",
       "      <td>Unknown</td>\n",
       "      <td>2879.0</td>\n",
       "      <td>1150.52902</td>\n",
       "      <td>Cydonia Two Cydonia 2</td>\n",
       "    </tr>\n",
       "  </tbody>\n",
       "</table>\n",
       "</div>"
      ],
      "text/plain": [
       "      PRODUCT_ID                                              TITLE  \\\n",
       "3651     2919319  Generic Chiffon printed dupatta with Golden do...   \n",
       "3652       90582                      CAUGHT IN THE ACT (Loveswept)   \n",
       "3653     2894923  GlobalNicheÂ® Leather Car Key Case Cover for f...   \n",
       "3654     1008258   The Mountain Bigfoot Adult T-Shirt, Brown, Small   \n",
       "3655      402457  Tales of Cydonia: Volume Two: Cydonia Labyrint...   \n",
       "\n",
       "     BULLET_POINTS DESCRIPTION  PRODUCT_TYPE_ID  PRODUCT_LENGTH  \\\n",
       "3651       Unknown     Unknown           2879.0      1150.52902   \n",
       "3652       Unknown     Unknown           2879.0      1150.52902   \n",
       "3653       Unknown     Unknown           2879.0      1150.52902   \n",
       "3654       Unknown     Unknown           2879.0      1150.52902   \n",
       "3655       Unknown     Unknown           2879.0      1150.52902   \n",
       "\n",
       "                                           SHORT_TITLE  \n",
       "3651      Generic Chiffon Hangings for Girls and Women  \n",
       "3652                     CAUGHT IN THE ACT (Loveswept)  \n",
       "3653     Car Key Case Cover Fiesta Escort Key Ring Car  \n",
       "3654  The Mountain Bigfoot Adult T-Shirt, Brown, Small  \n",
       "3655                             Cydonia Two Cydonia 2  "
      ]
     },
     "execution_count": 26,
     "metadata": {},
     "output_type": "execute_result"
    }
   ],
   "source": [
    "data.tail(5)"
   ]
  },
  {
   "cell_type": "code",
   "execution_count": null,
   "metadata": {},
   "outputs": [],
   "source": []
  }
 ],
 "metadata": {
  "kernelspec": {
   "display_name": "Python 3",
   "language": "python",
   "name": "python3"
  },
  "language_info": {
   "codemirror_mode": {
    "name": "ipython",
    "version": 3
   },
   "file_extension": ".py",
   "mimetype": "text/x-python",
   "name": "python",
   "nbconvert_exporter": "python",
   "pygments_lexer": "ipython3",
   "version": "3.12.1"
  }
 },
 "nbformat": 4,
 "nbformat_minor": 2
}
