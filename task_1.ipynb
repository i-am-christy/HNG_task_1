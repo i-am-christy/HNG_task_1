{
 "cells": [
  {
   "cell_type": "code",
   "execution_count": 1,
   "metadata": {},
   "outputs": [],
   "source": [
    "import numpy as np\n",
    "import pandas as pd\n",
    "import matplotlib.pyplot as plt\n",
    "%matplotlib inline\n",
    "import seaborn as sns"
   ]
  },
  {
   "cell_type": "code",
   "execution_count": 2,
   "metadata": {},
   "outputs": [
    {
     "data": {
      "text/html": [
       "<div>\n",
       "<style scoped>\n",
       "    .dataframe tbody tr th:only-of-type {\n",
       "        vertical-align: middle;\n",
       "    }\n",
       "\n",
       "    .dataframe tbody tr th {\n",
       "        vertical-align: top;\n",
       "    }\n",
       "\n",
       "    .dataframe thead th {\n",
       "        text-align: right;\n",
       "    }\n",
       "</style>\n",
       "<table border=\"1\" class=\"dataframe\">\n",
       "  <thead>\n",
       "    <tr style=\"text-align: right;\">\n",
       "      <th></th>\n",
       "      <th>PRODUCTID</th>\n",
       "      <th>TITLE</th>\n",
       "      <th>BULLET_POINTS</th>\n",
       "      <th>DESCRIPTION</th>\n",
       "      <th>PRODUCTTYPEID</th>\n",
       "      <th>ProductLength</th>\n",
       "    </tr>\n",
       "  </thead>\n",
       "  <tbody>\n",
       "    <tr>\n",
       "      <th>0</th>\n",
       "      <td>1925202</td>\n",
       "      <td>ArtzFolio Tulip Flowers Blackout Curtain for D...</td>\n",
       "      <td>[LUXURIOUS &amp; APPEALING: Beautiful custom-made ...</td>\n",
       "      <td>NaN</td>\n",
       "      <td>1650.0</td>\n",
       "      <td>2125.980000</td>\n",
       "    </tr>\n",
       "    <tr>\n",
       "      <th>1</th>\n",
       "      <td>2673191</td>\n",
       "      <td>Marks &amp; Spencer Girls' Pyjama Sets T86_2561C_N...</td>\n",
       "      <td>[Harry Potter Hedwig Pyjamas (6-16 Yrs),100% c...</td>\n",
       "      <td>NaN</td>\n",
       "      <td>2755.0</td>\n",
       "      <td>393.700000</td>\n",
       "    </tr>\n",
       "    <tr>\n",
       "      <th>2</th>\n",
       "      <td>2765088</td>\n",
       "      <td>PRIKNIK Horn Red Electric Air Horn Compressor ...</td>\n",
       "      <td>[Loud Dual Tone Trumpet Horn, Compatible With ...</td>\n",
       "      <td>Specifications: Color: Red, Material: Aluminiu...</td>\n",
       "      <td>7537.0</td>\n",
       "      <td>748.031495</td>\n",
       "    </tr>\n",
       "    <tr>\n",
       "      <th>3</th>\n",
       "      <td>1594019</td>\n",
       "      <td>ALISHAH Women's Cotton Ankle Length Leggings C...</td>\n",
       "      <td>[Made By 95%cotton and 5% Lycra which gives yo...</td>\n",
       "      <td>AISHAH Women's Lycra Cotton Ankel Leggings. Br...</td>\n",
       "      <td>2996.0</td>\n",
       "      <td>787.401574</td>\n",
       "    </tr>\n",
       "    <tr>\n",
       "      <th>4</th>\n",
       "      <td>283658</td>\n",
       "      <td>The United Empire Loyalists: A Chronicle of th...</td>\n",
       "      <td>NaN</td>\n",
       "      <td>NaN</td>\n",
       "      <td>6112.0</td>\n",
       "      <td>598.424000</td>\n",
       "    </tr>\n",
       "  </tbody>\n",
       "</table>\n",
       "</div>"
      ],
      "text/plain": [
       "   PRODUCTID                                              TITLE  \\\n",
       "0    1925202  ArtzFolio Tulip Flowers Blackout Curtain for D...   \n",
       "1    2673191  Marks & Spencer Girls' Pyjama Sets T86_2561C_N...   \n",
       "2    2765088  PRIKNIK Horn Red Electric Air Horn Compressor ...   \n",
       "3    1594019  ALISHAH Women's Cotton Ankle Length Leggings C...   \n",
       "4     283658  The United Empire Loyalists: A Chronicle of th...   \n",
       "\n",
       "                                       BULLET_POINTS  \\\n",
       "0  [LUXURIOUS & APPEALING: Beautiful custom-made ...   \n",
       "1  [Harry Potter Hedwig Pyjamas (6-16 Yrs),100% c...   \n",
       "2  [Loud Dual Tone Trumpet Horn, Compatible With ...   \n",
       "3  [Made By 95%cotton and 5% Lycra which gives yo...   \n",
       "4                                                NaN   \n",
       "\n",
       "                                         DESCRIPTION  PRODUCTTYPEID  \\\n",
       "0                                                NaN         1650.0   \n",
       "1                                                NaN         2755.0   \n",
       "2  Specifications: Color: Red, Material: Aluminiu...         7537.0   \n",
       "3  AISHAH Women's Lycra Cotton Ankel Leggings. Br...         2996.0   \n",
       "4                                                NaN         6112.0   \n",
       "\n",
       "   ProductLength  \n",
       "0    2125.980000  \n",
       "1     393.700000  \n",
       "2     748.031495  \n",
       "3     787.401574  \n",
       "4     598.424000  "
      ]
     },
     "execution_count": 2,
     "metadata": {},
     "output_type": "execute_result"
    }
   ],
   "source": [
    "data = pd.read_excel(\"productdata.xlsx\")\n",
    "data.head()"
   ]
  },
  {
   "cell_type": "code",
   "execution_count": 3,
   "metadata": {},
   "outputs": [
    {
     "name": "stdout",
     "output_type": "stream",
     "text": [
      "<class 'pandas.core.frame.DataFrame'>\n",
      "RangeIndex: 3847 entries, 0 to 3846\n",
      "Data columns (total 6 columns):\n",
      " #   Column         Non-Null Count  Dtype  \n",
      "---  ------         --------------  -----  \n",
      " 0   PRODUCTID      3847 non-null   int64  \n",
      " 1   TITLE          3847 non-null   object \n",
      " 2   BULLET_POINTS  2256 non-null   object \n",
      " 3   DESCRIPTION    1703 non-null   object \n",
      " 4   PRODUCTTYPEID  3669 non-null   float64\n",
      " 5   ProductLength  3669 non-null   float64\n",
      "dtypes: float64(2), int64(1), object(3)\n",
      "memory usage: 180.5+ KB\n"
     ]
    }
   ],
   "source": [
    "#check each column\n",
    "data.info()"
   ]
  },
  {
   "cell_type": "markdown",
   "metadata": {},
   "source": [
    "from the info above i can infer that the `bullet_points`, `description` , `peoducttypeid` and `productlength` all have missing data"
   ]
  },
  {
   "cell_type": "code",
   "execution_count": 4,
   "metadata": {},
   "outputs": [
    {
     "data": {
      "text/html": [
       "<div>\n",
       "<style scoped>\n",
       "    .dataframe tbody tr th:only-of-type {\n",
       "        vertical-align: middle;\n",
       "    }\n",
       "\n",
       "    .dataframe tbody tr th {\n",
       "        vertical-align: top;\n",
       "    }\n",
       "\n",
       "    .dataframe thead th {\n",
       "        text-align: right;\n",
       "    }\n",
       "</style>\n",
       "<table border=\"1\" class=\"dataframe\">\n",
       "  <thead>\n",
       "    <tr style=\"text-align: right;\">\n",
       "      <th></th>\n",
       "      <th>TITLE</th>\n",
       "      <th>BULLET_POINTS</th>\n",
       "      <th>DESCRIPTION</th>\n",
       "      <th>PRODUCTTYPEID</th>\n",
       "      <th>ProductLength</th>\n",
       "    </tr>\n",
       "    <tr>\n",
       "      <th>PRODUCTID</th>\n",
       "      <th></th>\n",
       "      <th></th>\n",
       "      <th></th>\n",
       "      <th></th>\n",
       "      <th></th>\n",
       "    </tr>\n",
       "  </thead>\n",
       "  <tbody>\n",
       "    <tr>\n",
       "      <th>1925202</th>\n",
       "      <td>ArtzFolio Tulip Flowers Blackout Curtain for D...</td>\n",
       "      <td>[LUXURIOUS &amp; APPEALING: Beautiful custom-made ...</td>\n",
       "      <td>NaN</td>\n",
       "      <td>1650.0</td>\n",
       "      <td>2125.980000</td>\n",
       "    </tr>\n",
       "    <tr>\n",
       "      <th>2673191</th>\n",
       "      <td>Marks &amp; Spencer Girls' Pyjama Sets T86_2561C_N...</td>\n",
       "      <td>[Harry Potter Hedwig Pyjamas (6-16 Yrs),100% c...</td>\n",
       "      <td>NaN</td>\n",
       "      <td>2755.0</td>\n",
       "      <td>393.700000</td>\n",
       "    </tr>\n",
       "    <tr>\n",
       "      <th>2765088</th>\n",
       "      <td>PRIKNIK Horn Red Electric Air Horn Compressor ...</td>\n",
       "      <td>[Loud Dual Tone Trumpet Horn, Compatible With ...</td>\n",
       "      <td>Specifications: Color: Red, Material: Aluminiu...</td>\n",
       "      <td>7537.0</td>\n",
       "      <td>748.031495</td>\n",
       "    </tr>\n",
       "    <tr>\n",
       "      <th>1594019</th>\n",
       "      <td>ALISHAH Women's Cotton Ankle Length Leggings C...</td>\n",
       "      <td>[Made By 95%cotton and 5% Lycra which gives yo...</td>\n",
       "      <td>AISHAH Women's Lycra Cotton Ankel Leggings. Br...</td>\n",
       "      <td>2996.0</td>\n",
       "      <td>787.401574</td>\n",
       "    </tr>\n",
       "    <tr>\n",
       "      <th>283658</th>\n",
       "      <td>The United Empire Loyalists: A Chronicle of th...</td>\n",
       "      <td>NaN</td>\n",
       "      <td>NaN</td>\n",
       "      <td>6112.0</td>\n",
       "      <td>598.424000</td>\n",
       "    </tr>\n",
       "  </tbody>\n",
       "</table>\n",
       "</div>"
      ],
      "text/plain": [
       "                                                       TITLE  \\\n",
       "PRODUCTID                                                      \n",
       "1925202    ArtzFolio Tulip Flowers Blackout Curtain for D...   \n",
       "2673191    Marks & Spencer Girls' Pyjama Sets T86_2561C_N...   \n",
       "2765088    PRIKNIK Horn Red Electric Air Horn Compressor ...   \n",
       "1594019    ALISHAH Women's Cotton Ankle Length Leggings C...   \n",
       "283658     The United Empire Loyalists: A Chronicle of th...   \n",
       "\n",
       "                                               BULLET_POINTS  \\\n",
       "PRODUCTID                                                      \n",
       "1925202    [LUXURIOUS & APPEALING: Beautiful custom-made ...   \n",
       "2673191    [Harry Potter Hedwig Pyjamas (6-16 Yrs),100% c...   \n",
       "2765088    [Loud Dual Tone Trumpet Horn, Compatible With ...   \n",
       "1594019    [Made By 95%cotton and 5% Lycra which gives yo...   \n",
       "283658                                                   NaN   \n",
       "\n",
       "                                                 DESCRIPTION  PRODUCTTYPEID  \\\n",
       "PRODUCTID                                                                     \n",
       "1925202                                                  NaN         1650.0   \n",
       "2673191                                                  NaN         2755.0   \n",
       "2765088    Specifications: Color: Red, Material: Aluminiu...         7537.0   \n",
       "1594019    AISHAH Women's Lycra Cotton Ankel Leggings. Br...         2996.0   \n",
       "283658                                                   NaN         6112.0   \n",
       "\n",
       "           ProductLength  \n",
       "PRODUCTID                 \n",
       "1925202      2125.980000  \n",
       "2673191       393.700000  \n",
       "2765088       748.031495  \n",
       "1594019       787.401574  \n",
       "283658        598.424000  "
      ]
     },
     "execution_count": 4,
     "metadata": {},
     "output_type": "execute_result"
    }
   ],
   "source": [
    "data.set_index('PRODUCTID', inplace=True)\n",
    "data.head()"
   ]
  },
  {
   "cell_type": "code",
   "execution_count": 5,
   "metadata": {},
   "outputs": [
    {
     "data": {
      "text/html": [
       "<div>\n",
       "<style scoped>\n",
       "    .dataframe tbody tr th:only-of-type {\n",
       "        vertical-align: middle;\n",
       "    }\n",
       "\n",
       "    .dataframe tbody tr th {\n",
       "        vertical-align: top;\n",
       "    }\n",
       "\n",
       "    .dataframe thead th {\n",
       "        text-align: right;\n",
       "    }\n",
       "</style>\n",
       "<table border=\"1\" class=\"dataframe\">\n",
       "  <thead>\n",
       "    <tr style=\"text-align: right;\">\n",
       "      <th></th>\n",
       "      <th>PRODUCTTYPEID</th>\n",
       "      <th>ProductLength</th>\n",
       "    </tr>\n",
       "  </thead>\n",
       "  <tbody>\n",
       "    <tr>\n",
       "      <th>count</th>\n",
       "      <td>3669.000000</td>\n",
       "      <td>3669.000000</td>\n",
       "    </tr>\n",
       "    <tr>\n",
       "      <th>mean</th>\n",
       "      <td>3932.736986</td>\n",
       "      <td>1150.529020</td>\n",
       "    </tr>\n",
       "    <tr>\n",
       "      <th>std</th>\n",
       "      <td>3970.908660</td>\n",
       "      <td>2665.897894</td>\n",
       "    </tr>\n",
       "    <tr>\n",
       "      <th>min</th>\n",
       "      <td>0.000000</td>\n",
       "      <td>1.000000</td>\n",
       "    </tr>\n",
       "    <tr>\n",
       "      <th>25%</th>\n",
       "      <td>154.000000</td>\n",
       "      <td>507.873000</td>\n",
       "    </tr>\n",
       "    <tr>\n",
       "      <th>50%</th>\n",
       "      <td>2879.000000</td>\n",
       "      <td>640.000000</td>\n",
       "    </tr>\n",
       "    <tr>\n",
       "      <th>75%</th>\n",
       "      <td>6337.000000</td>\n",
       "      <td>1023.622046</td>\n",
       "    </tr>\n",
       "    <tr>\n",
       "      <th>max</th>\n",
       "      <td>13330.000000</td>\n",
       "      <td>96000.000000</td>\n",
       "    </tr>\n",
       "  </tbody>\n",
       "</table>\n",
       "</div>"
      ],
      "text/plain": [
       "       PRODUCTTYPEID  ProductLength\n",
       "count    3669.000000    3669.000000\n",
       "mean     3932.736986    1150.529020\n",
       "std      3970.908660    2665.897894\n",
       "min         0.000000       1.000000\n",
       "25%       154.000000     507.873000\n",
       "50%      2879.000000     640.000000\n",
       "75%      6337.000000    1023.622046\n",
       "max     13330.000000   96000.000000"
      ]
     },
     "execution_count": 5,
     "metadata": {},
     "output_type": "execute_result"
    }
   ],
   "source": [
    "data.describe()"
   ]
  },
  {
   "cell_type": "code",
   "execution_count": 6,
   "metadata": {},
   "outputs": [
    {
     "data": {
      "text/plain": [
       "TITLE               0\n",
       "BULLET_POINTS    1591\n",
       "DESCRIPTION      2144\n",
       "PRODUCTTYPEID     178\n",
       "ProductLength     178\n",
       "dtype: int64"
      ]
     },
     "execution_count": 6,
     "metadata": {},
     "output_type": "execute_result"
    }
   ],
   "source": [
    "#check for missing data\n",
    "data.isna().sum()"
   ]
  },
  {
   "cell_type": "code",
   "execution_count": 7,
   "metadata": {},
   "outputs": [
    {
     "data": {
      "image/png": "[encoded data removed]",
      "text/plain": [
       "<Figure size 1000x600 with 1 Axes>"
      ]
     },
     "metadata": {},
     "output_type": "display_data"
    }
   ],
   "source": [
    "# Count missing values per column\n",
    "missing_values = data.isna().sum()\n",
    "\n",
    "# Filter out columns with no missing values\n",
    "missing_values = missing_values[missing_values > 0]\n",
    "\n",
    "# Plot the missing values as a bar chart\n",
    "plt.figure(figsize=(10, 6))\n",
    "missing_values.plot(kind='bar', color='red')\n",
    "plt.title(\"Missing Data Count per Column\")\n",
    "plt.xlabel(\"Columns\")\n",
    "plt.ylabel(\"Count of Missing Values\")\n",
    "plt.xticks(rotation=45)\n",
    "plt.show()\n"
   ]
  },
  {
   "cell_type": "code",
   "execution_count": 8,
   "metadata": {},
   "outputs": [
    {
     "data": {
      "text/plain": [
       "TITLE            0\n",
       "BULLET_POINTS    0\n",
       "DESCRIPTION      0\n",
       "PRODUCTTYPEID    0\n",
       "ProductLength    0\n",
       "dtype: int64"
      ]
     },
     "execution_count": 8,
     "metadata": {},
     "output_type": "execute_result"
    }
   ],
   "source": [
    "#fill the categorical missing columns with \"unknown\"\n",
    "data[\"BULLET_POINTS\"].fillna(\"Not Available\", inplace=True)\n",
    "data[\"DESCRIPTION\"].fillna(\"Not Available\", inplace=True)\n",
    "data[\"PRODUCTTYPEID\"].fillna(data['PRODUCTTYPEID'].median(), inplace=True)\n",
    "data[\"ProductLength\"].fillna(data['ProductLength'].mean(), inplace=True)\n",
    "data.isna().sum()"
   ]
  },
  {
   "cell_type": "code",
   "execution_count": 9,
   "metadata": {},
   "outputs": [
    {
     "data": {
      "image/png": "[encoded data removed]",
      "text/plain": [
       "<Figure size 800x600 with 1 Axes>"
      ]
     },
     "metadata": {},
     "output_type": "display_data"
    }
   ],
   "source": [
    "# Count duplicate and unique rows\n",
    "duplicate_rows_count = data.duplicated().sum()\n",
    "unique_rows_count = len(data) - duplicate_rows_count\n",
    "\n",
    "# Plot a pie chart\n",
    "plt.figure(figsize=(8, 6))\n",
    "plt.pie([unique_rows_count, duplicate_rows_count], labels=[\"Unique Rows\", \"Duplicated Rows\"], autopct='%1.1f%%', colors=['lightgreen', 'salmon'])\n",
    "plt.title(\"Proportion of Duplicated vs Unique Rows\")\n",
    "plt.show()"
   ]
  },
  {
   "cell_type": "code",
   "execution_count": 10,
   "metadata": {},
   "outputs": [],
   "source": [
    "data.drop_duplicates(inplace=True)"
   ]
  },
  {
   "cell_type": "code",
   "execution_count": 11,
   "metadata": {},
   "outputs": [
    {
     "data": {
      "text/plain": [
       "Index(['TITLE', 'BULLET_POINTS', 'DESCRIPTION', 'PRODUCT_TYPE_ID',\n",
       "       'PRODUCT_LENGTH'],\n",
       "      dtype='object')"
      ]
     },
     "execution_count": 11,
     "metadata": {},
     "output_type": "execute_result"
    }
   ],
   "source": [
    "#rename the coulmns\n",
    "data.rename(columns={\"PRODUCTID\":\"PRODUCT_ID\", \"PRODUCTTYPEID\":\"PRODUCT_TYPE_ID\", \"ProductLength\":\"PRODUCT_LENGTH\"}, inplace=True)\n",
    "data.columns"
   ]
  },
  {
   "cell_type": "code",
   "execution_count": 12,
   "metadata": {},
   "outputs": [],
   "source": [
    "#numeric_cols = data.select_dtypes(include=\"float64\")\n",
    "\n",
    "# Function to detect outliers using IQR\n",
    "def detect_outliers_iqr(df):\n",
    "    outlier_counts = {}\n",
    "    for col in df.select_dtypes(include=['number']).columns:\n",
    "        Q1 = df[col].quantile(0.25)\n",
    "        Q3 = df[col].quantile(0.75)\n",
    "        IQR = Q3 - Q1\n",
    "        lower_bound = Q1 - 1.5 * IQR\n",
    "        upper_bound = Q3 + 1.5 * IQR\n",
    "        outliers = df[(df[col] < lower_bound) | (df[col] > upper_bound)]\n",
    "        outlier_counts[col] = len(outliers)\n",
    "    return outlier_counts\n",
    "\n",
    "# Apply function\n",
    "outliers_iqr = detect_outliers_iqr(data)"
   ]
  },
  {
   "cell_type": "code",
   "execution_count": 13,
   "metadata": {},
   "outputs": [
    {
     "data": {
      "image/png": "[encoded data removed]",
      "text/plain": [
       "<Figure size 1200x600 with 1 Axes>"
      ]
     },
     "metadata": {},
     "output_type": "display_data"
    }
   ],
   "source": [
    "# Plot outliers count\n",
    "plt.figure(figsize=(12, 6))\n",
    "plt.bar(outliers_iqr.keys(), outliers_iqr.values(), color=\"orange\", edgecolor=\"black\")\n",
    "plt.title(\"Outlier Count per Column (IQR Method)\")\n",
    "plt.ylabel(\"Outlier Count\")\n",
    "plt.xticks(rotation=45)\n",
    "plt.show()"
   ]
  },
  {
   "cell_type": "code",
   "execution_count": 14,
   "metadata": {},
   "outputs": [],
   "source": [
    "# Replace outliers with mean (In-place modification)\n",
    "for col in data.select_dtypes(include=['number']).columns:\n",
    "    Q1 = data[col].quantile(0.25)\n",
    "    Q3 = data[col].quantile(0.75)\n",
    "    IQR = Q3 - Q1\n",
    "    lower_bound = Q1 - 1.5 * IQR\n",
    "    upper_bound = Q3 + 1.5 * IQR\n",
    "\n",
    "    # Compute column mean\n",
    "    mean_value = data[col].mean()\n",
    "    \n",
    "    # Replace outliers with mean in the same dataframe\n",
    "    data.loc[(data[col] < lower_bound) | (data[col] > upper_bound), col] = mean_value"
   ]
  },
  {
   "cell_type": "code",
   "execution_count": 15,
   "metadata": {},
   "outputs": [],
   "source": [
    "# Detect outliers after handling\n",
    "outliers_after = detect_outliers_iqr(data)"
   ]
  },
  {
   "cell_type": "code",
   "execution_count": 16,
   "metadata": {},
   "outputs": [
    {
     "data": {
      "image/png": "[encoded data removed]",
      "text/plain": [
       "<Figure size 1200x600 with 1 Axes>"
      ]
     },
     "metadata": {},
     "output_type": "display_data"
    }
   ],
   "source": [
    "# Plot outliers count after replacement\n",
    "plt.figure(figsize=(12, 6))\n",
    "plt.bar(outliers_after.keys(), outliers_after.values(), color=\"green\", edgecolor=\"black\")\n",
    "plt.title(\"Outlier Count per Column (After Handling - IQR Method)\")\n",
    "plt.ylabel(\"Outlier Count\")\n",
    "plt.xticks(rotation=45)\n",
    "plt.show()"
   ]
  },
  {
   "cell_type": "code",
   "execution_count": 17,
   "metadata": {},
   "outputs": [
    {
     "name": "stderr",
     "output_type": "stream",
     "text": [
      "[nltk_data] Downloading package stopwords to\n",
      "[nltk_data]     C:\\Users\\HP\\AppData\\Roaming\\nltk_data...\n",
      "[nltk_data]   Package stopwords is already up-to-date!\n"
     ]
    },
    {
     "data": {
      "text/plain": [
       "True"
      ]
     },
     "execution_count": 17,
     "metadata": {},
     "output_type": "execute_result"
    }
   ],
   "source": [
    "from rake_nltk import Rake\n",
    "import nltk\n",
    "from nltk.corpus import stopwords\n",
    "from nltk.tokenize import word_tokenize\n",
    "import re\n",
    "#download stopwords and remove them from title\n",
    "\n",
    "nltk.download('stopwords')"
   ]
  },
  {
   "cell_type": "code",
   "execution_count": null,
   "metadata": {},
   "outputs": [
    {
     "name": "stderr",
     "output_type": "stream",
     "text": [
      "C:\\Users\\HP\\AppData\\Local\\Temp\\ipykernel_13404\\1483354062.py:6: MarkupResemblesLocatorWarning: The input looks more like a filename than markup. You may want to open this file and pass the filehandle into Beautiful Soup.\n",
      "  text = BeautifulSoup(text, \"html.parser\").get_text() #removes HTML tags\n"
     ]
    }
   ],
   "source": [
    "from bs4 import BeautifulSoup\n",
    "#cleaning the bullet points and description columns\n",
    "\n",
    "def clean_text(text):\n",
    "    if isinstance(text, str):\n",
    "        text = BeautifulSoup(text, \"html.parser\").get_text() #removes HTML tags\n",
    "        text = re.sub(r\"[\\•\\-\\*]\", \"\", text) #remove bullet symbols\n",
    "        text = re.sub(r\"[\\[|\\]]\", \"\", text) #removes square brackets\n",
    "        text = re.sub(r\"\\s+\", \" \", text).strip()  # Remove extra spaces\n",
    "    return text\n",
    "\n",
    "data[\"BULLET_POINTS\"] = data[\"BULLET_POINTS\"].apply(clean_text)\n",
    "data[\"DESCRIPTION\"] = data[\"DESCRIPTION\"].apply(clean_text)"
   ]
  },
  {
   "cell_type": "code",
   "execution_count": 51,
   "metadata": {},
   "outputs": [
    {
     "data": {
      "text/html": [
       "<div>\n",
       "<style scoped>\n",
       "    .dataframe tbody tr th:only-of-type {\n",
       "        vertical-align: middle;\n",
       "    }\n",
       "\n",
       "    .dataframe tbody tr th {\n",
       "        vertical-align: top;\n",
       "    }\n",
       "\n",
       "    .dataframe thead th {\n",
       "        text-align: right;\n",
       "    }\n",
       "</style>\n",
       "<table border=\"1\" class=\"dataframe\">\n",
       "  <thead>\n",
       "    <tr style=\"text-align: right;\">\n",
       "      <th></th>\n",
       "      <th>BULLET_POINTS</th>\n",
       "      <th>DESCRIPTION</th>\n",
       "    </tr>\n",
       "    <tr>\n",
       "      <th>PRODUCTID</th>\n",
       "      <th></th>\n",
       "      <th></th>\n",
       "    </tr>\n",
       "  </thead>\n",
       "  <tbody>\n",
       "    <tr>\n",
       "      <th>1925202</th>\n",
       "      <td>LUXURIOUS &amp; APPEALING: Beautiful custommade cu...</td>\n",
       "      <td>Not Available</td>\n",
       "    </tr>\n",
       "    <tr>\n",
       "      <th>2673191</th>\n",
       "      <td>Harry Potter Hedwig Pyjamas (616 Yrs),100% cot...</td>\n",
       "      <td>Not Available</td>\n",
       "    </tr>\n",
       "    <tr>\n",
       "      <th>2765088</th>\n",
       "      <td>Loud Dual Tone Trumpet Horn, Compatible With S...</td>\n",
       "      <td>Specifications: Color: Red, Material: Aluminiu...</td>\n",
       "    </tr>\n",
       "    <tr>\n",
       "      <th>1594019</th>\n",
       "      <td>Made By 95%cotton and 5% Lycra which gives you...</td>\n",
       "      <td>AISHAH Women's Lycra Cotton Ankel Leggings. Br...</td>\n",
       "    </tr>\n",
       "    <tr>\n",
       "      <th>283658</th>\n",
       "      <td>Not Available</td>\n",
       "      <td>Not Available</td>\n",
       "    </tr>\n",
       "  </tbody>\n",
       "</table>\n",
       "</div>"
      ],
      "text/plain": [
       "                                               BULLET_POINTS  \\\n",
       "PRODUCTID                                                      \n",
       "1925202    LUXURIOUS & APPEALING: Beautiful custommade cu...   \n",
       "2673191    Harry Potter Hedwig Pyjamas (616 Yrs),100% cot...   \n",
       "2765088    Loud Dual Tone Trumpet Horn, Compatible With S...   \n",
       "1594019    Made By 95%cotton and 5% Lycra which gives you...   \n",
       "283658                                         Not Available   \n",
       "\n",
       "                                                 DESCRIPTION  \n",
       "PRODUCTID                                                     \n",
       "1925202                                        Not Available  \n",
       "2673191                                        Not Available  \n",
       "2765088    Specifications: Color: Red, Material: Aluminiu...  \n",
       "1594019    AISHAH Women's Lycra Cotton Ankel Leggings. Br...  \n",
       "283658                                         Not Available  "
      ]
     },
     "execution_count": 19,
     "metadata": {},
     "output_type": "execute_result"
    }
   ],
   "source": [
    "data[[\"BULLET_POINTS\", \"DESCRIPTION\"]].head()"
   ]
  },
  {
   "cell_type": "code",
   "execution_count": 48,
   "metadata": {},
   "outputs": [
    {
     "data": {
      "text/plain": [
       "PRODUCTID\n",
       "1925202    ArtzFolio Tulip Flowers Blackout Curtain Door ...\n",
       "2673191    Marks Spencer Girls Pyjama Sets T86_2561C_Navy...\n",
       "2765088    PRIKNIK Horn Red Electric Air Horn Compressor ...\n",
       "1594019    ALISHAH Womens Cotton Ankle Length Leggings Co...\n",
       "283658     United Empire Loyalists Chronicle Great Migration\n",
       "Name: TITLE, dtype: object"
      ]
     },
     "execution_count": 48,
     "metadata": {},
     "output_type": "execute_result"
    }
   ],
   "source": [
    "import re\n",
    "\n",
    "# Define redundant words/phrases to remove\n",
    "redundant_words = [\"set of\", \"includes\", \"features\", \"pcs\", \"Combo of\"]\n",
    "\n",
    "#load english stop words\n",
    "stop_words = set(stopwords.words(\"english\"))\n",
    "\n",
    "\n",
    "# Function to clean the title\n",
    "def clean_title(title):\n",
    "    if isinstance(title, str):  # Ensure the value is a string\n",
    "        # Remove special characters\n",
    "        title = re.sub(r\"[^\\w\\s]\", \"\", title)  # Remove all non-alphanumeric characters except spaces\n",
    "\n",
    "        # Tokenize words\n",
    "        words = word_tokenize(title)\n",
    "\n",
    "        # Remove stopwords and redundant words\n",
    "        filtered_words = [word for word in words if word.lower() not in stop_words and word.lower() not in redundant_words]\n",
    "\n",
    "        # Reconstruct title\n",
    "        cleaned_title = \" \".join(filtered_words).strip()\n",
    "\n",
    "        return cleaned_title\n",
    "    return title  # Return original if not a string\n",
    "\n",
    "# Apply the cleaning function to the TITLE column\n",
    "data[\"TITLE\"] = data[\"TITLE\"].astype(str).apply(clean_title)\n",
    "\n",
    "#display title\n",
    "data[\"TITLE\"].head()\n"
   ]
  },
  {
   "cell_type": "code",
   "execution_count": 52,
   "metadata": {},
   "outputs": [],
   "source": [
    "#use rake to extarct keywords/keyphrases from text\n",
    "r = Rake()\n",
    "\n",
    "def extract_keywords(text):\n",
    "    r.extract_keywords_from_text(text)\n",
    "    \n",
    "    # Get keyword scores (ranked phrases with scores)\n",
    "    ranked_keywords = r.get_ranked_phrases_with_scores()\n",
    "    \n",
    "    # Sort keywords by their score in descending order\n",
    "    sorted_keywords = sorted(ranked_keywords, key=lambda x: x[0], reverse=True)\n",
    "    \n",
    "    # Extract top 5 highest-rated keywords\n",
    "    top_keywords = [kw[1] for kw in sorted_keywords[:5]]  \n",
    "\n",
    "    # Use top keywords if available, otherwise fall back to the original title\n",
    "    keyphrase = \" \".join(top_keywords) if top_keywords else text\n",
    "\n",
    "    # Ensure max length of 50 characters without cutting words\n",
    "    if len(keyphrase) > 50:\n",
    "        keyphrase = keyphrase[:50].rsplit(\" \", 1)[0].capitalize()  # Truncate safely\n",
    "\n",
    "    return keyphrase\n"
   ]
  },
  {
   "cell_type": "code",
   "execution_count": 53,
   "metadata": {},
   "outputs": [],
   "source": [
    "data[\"SHORT_TITLE\"] = data[\"TITLE\"].apply(extract_keywords)"
   ]
  },
  {
   "cell_type": "code",
   "execution_count": 54,
   "metadata": {},
   "outputs": [
    {
     "data": {
      "text/html": [
       "<div>\n",
       "<style scoped>\n",
       "    .dataframe tbody tr th:only-of-type {\n",
       "        vertical-align: middle;\n",
       "    }\n",
       "\n",
       "    .dataframe tbody tr th {\n",
       "        vertical-align: top;\n",
       "    }\n",
       "\n",
       "    .dataframe thead th {\n",
       "        text-align: right;\n",
       "    }\n",
       "</style>\n",
       "<table border=\"1\" class=\"dataframe\">\n",
       "  <thead>\n",
       "    <tr style=\"text-align: right;\">\n",
       "      <th></th>\n",
       "      <th>TITLE</th>\n",
       "      <th>SHORT_TITLE</th>\n",
       "    </tr>\n",
       "    <tr>\n",
       "      <th>PRODUCTID</th>\n",
       "      <th></th>\n",
       "      <th></th>\n",
       "    </tr>\n",
       "  </thead>\n",
       "  <tbody>\n",
       "    <tr>\n",
       "      <th>1925202</th>\n",
       "      <td>ArtzFolio Tulip Flowers Blackout Curtain Door ...</td>\n",
       "      <td>Artzfolio tulip flowers blackout curtain door</td>\n",
       "    </tr>\n",
       "    <tr>\n",
       "      <th>2673191</th>\n",
       "      <td>Marks Spencer Girls Pyjama Sets T86_2561C_Navy...</td>\n",
       "      <td>Marks spencer girls pyjama sets t86_2561c_navy</td>\n",
       "    </tr>\n",
       "    <tr>\n",
       "      <th>2765088</th>\n",
       "      <td>PRIKNIK Horn Red Electric Air Horn Compressor ...</td>\n",
       "      <td>Priknik horn red electric air horn compressor</td>\n",
       "    </tr>\n",
       "    <tr>\n",
       "      <th>1594019</th>\n",
       "      <td>ALISHAH Womens Cotton Ankle Length Leggings Co...</td>\n",
       "      <td>Alishah womens cotton ankle length leggings combo</td>\n",
       "    </tr>\n",
       "    <tr>\n",
       "      <th>283658</th>\n",
       "      <td>United Empire Loyalists Chronicle Great Migration</td>\n",
       "      <td>united empire loyalists chronicle great migration</td>\n",
       "    </tr>\n",
       "  </tbody>\n",
       "</table>\n",
       "</div>"
      ],
      "text/plain": [
       "                                                       TITLE  \\\n",
       "PRODUCTID                                                      \n",
       "1925202    ArtzFolio Tulip Flowers Blackout Curtain Door ...   \n",
       "2673191    Marks Spencer Girls Pyjama Sets T86_2561C_Navy...   \n",
       "2765088    PRIKNIK Horn Red Electric Air Horn Compressor ...   \n",
       "1594019    ALISHAH Womens Cotton Ankle Length Leggings Co...   \n",
       "283658     United Empire Loyalists Chronicle Great Migration   \n",
       "\n",
       "                                                 SHORT_TITLE  \n",
       "PRODUCTID                                                     \n",
       "1925202        Artzfolio tulip flowers blackout curtain door  \n",
       "2673191       Marks spencer girls pyjama sets t86_2561c_navy  \n",
       "2765088        Priknik horn red electric air horn compressor  \n",
       "1594019    Alishah womens cotton ankle length leggings combo  \n",
       "283658     united empire loyalists chronicle great migration  "
      ]
     },
     "execution_count": 54,
     "metadata": {},
     "output_type": "execute_result"
    }
   ],
   "source": [
    "data[[\"TITLE\", \"SHORT_TITLE\"]].head()"
   ]
  },
  {
   "cell_type": "code",
   "execution_count": 55,
   "metadata": {},
   "outputs": [],
   "source": [
    "#download cleaned data\n",
    "data.to_excel(\"cleaned_productdata.xlsx\", index=False)\n",
    "\n",
    "#print(f\"File saved successfully!\")"
   ]
  },
  {
   "cell_type": "code",
   "execution_count": null,
   "metadata": {},
   "outputs": [],
   "source": []
  },
  {
   "cell_type": "code",
   "execution_count": null,
   "metadata": {},
   "outputs": [],
   "source": []
  }
 ],
 "metadata": {
  "kernelspec": {
   "display_name": "Python 3",
   "language": "python",
   "name": "python3"
  },
  "language_info": {
   "codemirror_mode": {
    "name": "ipython",
    "version": 3
   },
   "file_extension": ".py",
   "mimetype": "text/x-python",
   "name": "python",
   "nbconvert_exporter": "python",
   "pygments_lexer": "ipython3",
   "version": "3.12.1"
  }
 },
 "nbformat": 4,
 "nbformat_minor": 2
}
